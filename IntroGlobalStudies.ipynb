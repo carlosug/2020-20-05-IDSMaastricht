{
  "nbformat": 4,
  "nbformat_minor": 0,
  "metadata": {
    "colab": {
      "name": "IntroGlobalStudies.ipynb",
      "provenance": [],
      "authorship_tag": "ABX9TyO4KZnrkkuixl+Pnjx72x9v",
      "include_colab_link": true
    },
    "kernelspec": {
      "name": "python3",
      "display_name": "Python 3"
    }
  },
  "cells": [
    {
      "cell_type": "markdown",
      "metadata": {
        "id": "view-in-github",
        "colab_type": "text"
      },
      "source": [
        "<a href=\"https://colab.research.google.com/github/carlosug/2020-20-05-IDSMaastricht/blob/gh-pages/IntroGlobalStudies.ipynb\" target=\"_parent\"><img src=\"https://colab.research.google.com/assets/colab-badge.svg\" alt=\"Open In Colab\"/></a>"
      ]
    },
    {
      "cell_type": "markdown",
      "metadata": {
        "id": "lUQl09exu3Qd",
        "colab_type": "text"
      },
      "source": [
        "<!--NAVIGATION-->\n",
        "| [Contents](Index.ipynb) | [IPython: Beyond Normal Python](01.00-IPython-Beyond-Normal-Python.ipynb) >\n",
        "\n",
        "<a href=\"https://colab.research.google.com/github/jakevdp/PythonDataScienceHandbook/blob/master/notebooks/00.00-Preface.ipynb\"><img align=\"left\" src=\"https://colab.research.google.com/assets/colab-badge.svg\" alt=\"Open in Colab\" title=\"Open and Execute in Google Colaboratory\"></a>"
      ]
    },
    {
      "cell_type": "markdown",
      "metadata": {
        "id": "X35NpiDHu_5B",
        "colab_type": "text"
      },
      "source": [
        "# Preface"
      ]
    },
    {
      "cell_type": "markdown",
      "metadata": {
        "id": "bzVfSYp0vHBE",
        "colab_type": "text"
      },
      "source": [
        "## What Is Data Science?\n",
        "\n",
        "This is a book about doing data science with Python, which immediately begs the question: what is *data science*?\n",
        "It's a surprisingly hard definition to nail down, especially given how ubiquitous the term has become.\n",
        "Vocal critics have variously dismissed the term as a superfluous label (after all, what science doesn't involve data?) or a simple buzzword that only exists to salt resumes and catch the eye of overzealous tech recruiters.\n",
        "\n",
        "In my mind, these critiques miss something important.\n",
        "Data science, despite its hype-laden veneer, is perhaps the best label we have for the cross-disciplinary set of skills that are becoming increasingly important in many applications across industry and academia.\n",
        "This cross-disciplinary piece is key: in my mind, the best extisting definition of data science is illustrated by Drew Conway's Data Science Venn Diagram, first published on his blog in September 2010:"
      ]
    },
    {
      "cell_type": "markdown",
      "metadata": {
        "id": "Vuu_LKp1vMfZ",
        "colab_type": "text"
      },
      "source": [
        "![Data Science Venn Diagram](figures/datascienceVD.png)\n",
        "\n",
        "<small>(Source: [Drew Conway](http://drewconway.com/zia/2013/3/26/the-data-science-venn-diagram). Used by permission.)</small>"
      ]
    }
  ]
}